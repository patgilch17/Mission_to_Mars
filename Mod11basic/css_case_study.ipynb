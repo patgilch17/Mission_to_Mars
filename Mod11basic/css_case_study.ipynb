{
 "cells": [
  {
   "cell_type": "code",
   "execution_count": 1,
   "id": "2df8975a",
   "metadata": {},
   "outputs": [],
   "source": [
    "from bs4 import BeautifulSoup as soup"
   ]
  },
  {
   "cell_type": "code",
   "execution_count": 2,
   "id": "b0db0f19",
   "metadata": {},
   "outputs": [],
   "source": [
    "html = \"\"\"\n",
    "<!DOCTYPE html>\n",
    "<html lang=\"en\">\n",
    "\n",
    "<head>\n",
    "    <meta charset=\"UTF-8\">\n",
    "    <meta http-equiv=\"X-UA-Compatible\" content=\"IE=edge\">\n",
    "    <meta name=\"viewport\" content=\"width=device-width, initial-scale=1.0\">\n",
    "    <title>Document</title>\n",
    "</head>\n",
    "\n",
    "<style>\n",
    "    .even {\n",
    "        color: blue;\n",
    "    }\n",
    "\n",
    "    .odd {\n",
    "        color: green;\n",
    "    }\n",
    "</style>\n",
    "\n",
    "<body>\n",
    "    <div>\n",
    "        <p class=\"odd\" id=\"first\">First</p>\n",
    "        <p class=\"even\" id=\"second\">Second</p>\n",
    "        <p class=\"odd\" id=\"third\">Third</p>\n",
    "    </div>\n",
    "\n",
    "    <div>\n",
    "        <p class=\"even\" id=\"fourth\">Fourth</p>\n",
    "        <p class=\"odd\" id=\"fifth\">Fifth</p>\n",
    "        <p class=\"even\" id=\"sixth\">Sixth</p>\n",
    "    </div>\n",
    "</body>\n",
    "\n",
    "</html>\n",
    "\"\"\""
   ]
  },
  {
   "cell_type": "code",
   "execution_count": 3,
   "id": "242b3c4f",
   "metadata": {},
   "outputs": [],
   "source": [
    "html_soup = soup(html, 'html.parser')"
   ]
  },
  {
   "cell_type": "code",
   "execution_count": 20,
   "id": "d1f50640",
   "metadata": {},
   "outputs": [
    {
     "name": "stdout",
     "output_type": "stream",
     "text": [
      "<p class=\"odd\" id=\"first\">First</p>\n"
     ]
    }
   ],
   "source": [
    "odds = html_soup.find_class(\"p\", class_=\"odd\")\n",
    "#since we have multiple elements (find_all instead of find) it is functionally a list so use [0]\n",
    "#to select the first element and then .text returns only the paragraph text\n",
    "\n",
    "#in this example we technically don't need \"p\" since using only class_ returns the same thing\n",
    "print(odds)\n",
    "\n",
    "#so if we are using the class_ to find generally we want .find_all since class is a multiselect"
   ]
  },
  {
   "cell_type": "code",
   "execution_count": 15,
   "id": "781fdd83",
   "metadata": {},
   "outputs": [
    {
     "name": "stdout",
     "output_type": "stream",
     "text": [
      "<p class=\"odd\" id=\"first\">First</p>\n",
      "<p class=\"odd\" id=\"third\">Third</p>\n",
      "<p class=\"odd\" id=\"fifth\">Fifth</p>\n"
     ]
    }
   ],
   "source": [
    "for odd in odds:\n",
    "    print(odd)"
   ]
  },
  {
   "cell_type": "code",
   "execution_count": 16,
   "id": "bc69062e",
   "metadata": {},
   "outputs": [
    {
     "name": "stdout",
     "output_type": "stream",
     "text": [
      "First\n",
      "Third\n",
      "Fifth\n"
     ]
    }
   ],
   "source": [
    "for odd in odds:\n",
    "    print(odd.text)"
   ]
  },
  {
   "cell_type": "code",
   "execution_count": 18,
   "id": "7c37ea47",
   "metadata": {},
   "outputs": [
    {
     "data": {
      "text/plain": [
       "['First', 'Third', 'Fifth']"
      ]
     },
     "execution_count": 18,
     "metadata": {},
     "output_type": "execute_result"
    }
   ],
   "source": [
    "[odd.text for odd in odds]"
   ]
  },
  {
   "cell_type": "code",
   "execution_count": 19,
   "id": "dfc2ba8d",
   "metadata": {},
   "outputs": [
    {
     "name": "stdout",
     "output_type": "stream",
     "text": [
      "First\n"
     ]
    }
   ],
   "source": [
    "first = html_soup.find(\"p\", id=\"first\")\n",
    "print(first.text)\n",
    "\n",
    "#since id is unique we probably want to use just .find since there will be only 1 anyway"
   ]
  },
  {
   "cell_type": "code",
   "execution_count": null,
   "id": "60b391b1",
   "metadata": {},
   "outputs": [],
   "source": []
  }
 ],
 "metadata": {
  "kernelspec": {
   "display_name": "PythonData",
   "language": "python",
   "name": "pythondata"
  },
  "language_info": {
   "codemirror_mode": {
    "name": "ipython",
    "version": 3
   },
   "file_extension": ".py",
   "mimetype": "text/x-python",
   "name": "python",
   "nbconvert_exporter": "python",
   "pygments_lexer": "ipython3",
   "version": "3.9.12"
  }
 },
 "nbformat": 4,
 "nbformat_minor": 5
}
